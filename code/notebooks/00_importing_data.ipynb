{
 "cells": [
  {
   "cell_type": "markdown",
   "id": "d6d0e839-dfb4-4217-9bcf-e5ba7284af9f",
   "metadata": {},
   "source": [
    "# NFL Betting Odds"
   ]
  },
  {
   "cell_type": "markdown",
   "id": "06328d75-c388-456d-9ae8-6f50fb1a37c3",
   "metadata": {},
   "source": [
    "**Author:** Jakob Malasig\n",
    "**Last modified:** 11-17-2024 (created: 11-17-2024)\n",
    "\n",
    "**Description:** I will be downloading data for NFL season (2018 to current) from Fixture Downloads and integrating into one. Will then export it as a csv file for further anaylsis."
   ]
  },
  {
   "cell_type": "markdown",
   "id": "0eeb44cd-2018-499b-98da-d96134be10be",
   "metadata": {},
   "source": [
    "<br>"
   ]
  },
  {
   "cell_type": "markdown",
   "id": "abf8e5e4-2164-41d0-98ed-6ca7a5c38e85",
   "metadata": {},
   "source": [
    "Import libraries:"
   ]
  },
  {
   "cell_type": "code",
   "execution_count": 40,
   "id": "2377d286-7429-40f1-8836-d8de901b05c3",
   "metadata": {},
   "outputs": [],
   "source": [
    "import pandas as pd\n",
    "import os"
   ]
  },
  {
   "cell_type": "markdown",
   "id": "e9cd2cfe-0193-4092-8145-37271fbd0240",
   "metadata": {},
   "source": [
    "<br>"
   ]
  },
  {
   "cell_type": "markdown",
   "id": "cd1aac35-7963-40a9-aee4-7815c3cf8cdd",
   "metadata": {},
   "source": [
    "Load data:"
   ]
  },
  {
   "cell_type": "code",
   "execution_count": 53,
   "id": "4364852c-a970-4e05-9814-b74063c315a4",
   "metadata": {},
   "outputs": [
    {
     "name": "stdout",
     "output_type": "stream",
     "text": [
      "/Users/jmalasig/Documents/GitHub/3250-project/code/notebooks\n"
     ]
    }
   ],
   "source": [
    "# code to read csv file\n",
    "import os\n",
    "print(os.getcwd())"
   ]
  },
  {
   "cell_type": "code",
   "execution_count": 59,
   "id": "60fc1ff4-8e0b-4fec-b968-f3684a89d44b",
   "metadata": {},
   "outputs": [],
   "source": [
    "# load all of Fixture Download data into dataframes\n",
    "# 2018\n",
    "nfl_2018 = pd.read_csv(\"../../data/raw/nfl-2018.csv\", encoding = \"UTF-8\")\n",
    "\n",
    "# 2019\n",
    "nfl_2019 = pd.read_csv(\"../../data/raw/nfl-2019.csv\", encoding = \"UTF-8\")\n",
    "\n",
    "# 2020\n",
    "nfl_2020 = pd.read_csv(\"../../data/raw/nfl-2020.csv\", encoding = \"UTF-8\")\n",
    "\n",
    "# 2021\n",
    "nfl_2021 = pd.read_csv(\"../../data/raw/nfl-2021.csv\", encoding = \"UTF-8\")\n",
    "\n",
    "# 2022\n",
    "nfl_2022 = pd.read_csv(\"../../data/raw/nfl-2022.csv\", encoding = \"UTF-8\")\n",
    "\n",
    "# 2023\n",
    "nfl_2023 = pd.read_csv(\"../../data/raw/nfl-2023.csv\", encoding = \"UTF-8\")\n",
    "\n",
    "# 2024\n",
    "nfl_2024 = pd.read_csv(\"../../data/raw/nfl-2024.csv\", encoding = \"UTF-8\")"
   ]
  },
  {
   "cell_type": "markdown",
   "id": "2da7c754-226e-4e62-ba51-be9c8ce90cb0",
   "metadata": {},
   "source": [
    "<br>"
   ]
  },
  {
   "cell_type": "markdown",
   "id": "8fa2efa4-b23d-46fc-be4b-03f3309bfc64",
   "metadata": {},
   "source": [
    "Integrate data:"
   ]
  },
  {
   "cell_type": "code",
   "execution_count": 63,
   "id": "935bd0ef-5869-44a2-ab77-9775b11655c4",
   "metadata": {},
   "outputs": [
    {
     "data": {
      "text/html": [
       "<div>\n",
       "<style scoped>\n",
       "    .dataframe tbody tr th:only-of-type {\n",
       "        vertical-align: middle;\n",
       "    }\n",
       "\n",
       "    .dataframe tbody tr th {\n",
       "        vertical-align: top;\n",
       "    }\n",
       "\n",
       "    .dataframe thead th {\n",
       "        text-align: right;\n",
       "    }\n",
       "</style>\n",
       "<table border=\"1\" class=\"dataframe\">\n",
       "  <thead>\n",
       "    <tr style=\"text-align: right;\">\n",
       "      <th></th>\n",
       "      <th>Match Number</th>\n",
       "      <th>Round Number</th>\n",
       "      <th>Date</th>\n",
       "      <th>Location</th>\n",
       "      <th>Home Team</th>\n",
       "      <th>Away Team</th>\n",
       "      <th>Result</th>\n",
       "    </tr>\n",
       "  </thead>\n",
       "  <tbody>\n",
       "    <tr>\n",
       "      <th>0</th>\n",
       "      <td>1</td>\n",
       "      <td>1</td>\n",
       "      <td>06/09/2018 20:20</td>\n",
       "      <td>Lincoln Financial Field</td>\n",
       "      <td>Philadelphia Eagles</td>\n",
       "      <td>Atlanta Falcons</td>\n",
       "      <td>18 - 12</td>\n",
       "    </tr>\n",
       "    <tr>\n",
       "      <th>1</th>\n",
       "      <td>2</td>\n",
       "      <td>1</td>\n",
       "      <td>09/09/2018 13:00</td>\n",
       "      <td>FirstEnergy Stadium</td>\n",
       "      <td>Cleveland Browns</td>\n",
       "      <td>Pittsburgh Steelers</td>\n",
       "      <td>21 - 21</td>\n",
       "    </tr>\n",
       "    <tr>\n",
       "      <th>2</th>\n",
       "      <td>3</td>\n",
       "      <td>1</td>\n",
       "      <td>09/09/2018 13:00</td>\n",
       "      <td>Lucas Oil Stadium</td>\n",
       "      <td>Indianapolis Colts</td>\n",
       "      <td>Cincinnati Bengals</td>\n",
       "      <td>23 - 34</td>\n",
       "    </tr>\n",
       "    <tr>\n",
       "      <th>3</th>\n",
       "      <td>4</td>\n",
       "      <td>1</td>\n",
       "      <td>09/09/2018 13:00</td>\n",
       "      <td>Hard Rock Stadium</td>\n",
       "      <td>Miami Dolphins</td>\n",
       "      <td>Tennessee Titans</td>\n",
       "      <td>27 - 20</td>\n",
       "    </tr>\n",
       "    <tr>\n",
       "      <th>4</th>\n",
       "      <td>5</td>\n",
       "      <td>1</td>\n",
       "      <td>09/09/2018 13:00</td>\n",
       "      <td>U.S. Bank Stadium</td>\n",
       "      <td>Minnesota Vikings</td>\n",
       "      <td>San Francisco 49ers</td>\n",
       "      <td>24 - 16</td>\n",
       "    </tr>\n",
       "    <tr>\n",
       "      <th>...</th>\n",
       "      <td>...</td>\n",
       "      <td>...</td>\n",
       "      <td>...</td>\n",
       "      <td>...</td>\n",
       "      <td>...</td>\n",
       "      <td>...</td>\n",
       "      <td>...</td>\n",
       "    </tr>\n",
       "    <tr>\n",
       "      <th>1914</th>\n",
       "      <td>268</td>\n",
       "      <td>18</td>\n",
       "      <td>04/01/2025 00:00</td>\n",
       "      <td>MetLife Stadium</td>\n",
       "      <td>New York Jets</td>\n",
       "      <td>Miami Dolphins</td>\n",
       "      <td>NaN</td>\n",
       "    </tr>\n",
       "    <tr>\n",
       "      <th>1915</th>\n",
       "      <td>269</td>\n",
       "      <td>18</td>\n",
       "      <td>04/01/2025 00:00</td>\n",
       "      <td>Lincoln Financial Field</td>\n",
       "      <td>Philadelphia Eagles</td>\n",
       "      <td>New York Giants</td>\n",
       "      <td>NaN</td>\n",
       "    </tr>\n",
       "    <tr>\n",
       "      <th>1916</th>\n",
       "      <td>270</td>\n",
       "      <td>18</td>\n",
       "      <td>04/01/2025 00:00</td>\n",
       "      <td>Acrisure Stadium</td>\n",
       "      <td>Pittsburgh Steelers</td>\n",
       "      <td>Cincinnati Bengals</td>\n",
       "      <td>NaN</td>\n",
       "    </tr>\n",
       "    <tr>\n",
       "      <th>1917</th>\n",
       "      <td>271</td>\n",
       "      <td>18</td>\n",
       "      <td>04/01/2025 00:00</td>\n",
       "      <td>Raymond James Stadium</td>\n",
       "      <td>Tampa Bay Buccaneers</td>\n",
       "      <td>New Orleans Saints</td>\n",
       "      <td>NaN</td>\n",
       "    </tr>\n",
       "    <tr>\n",
       "      <th>1918</th>\n",
       "      <td>272</td>\n",
       "      <td>18</td>\n",
       "      <td>04/01/2025 00:00</td>\n",
       "      <td>Nissan Stadium</td>\n",
       "      <td>Tennessee Titans</td>\n",
       "      <td>Houston Texans</td>\n",
       "      <td>NaN</td>\n",
       "    </tr>\n",
       "  </tbody>\n",
       "</table>\n",
       "<p>1919 rows × 7 columns</p>\n",
       "</div>"
      ],
      "text/plain": [
       "      Match Number Round Number              Date                 Location  \\\n",
       "0                1            1  06/09/2018 20:20  Lincoln Financial Field   \n",
       "1                2            1  09/09/2018 13:00      FirstEnergy Stadium   \n",
       "2                3            1  09/09/2018 13:00        Lucas Oil Stadium   \n",
       "3                4            1  09/09/2018 13:00        Hard Rock Stadium   \n",
       "4                5            1  09/09/2018 13:00        U.S. Bank Stadium   \n",
       "...            ...          ...               ...                      ...   \n",
       "1914           268           18  04/01/2025 00:00          MetLife Stadium   \n",
       "1915           269           18  04/01/2025 00:00  Lincoln Financial Field   \n",
       "1916           270           18  04/01/2025 00:00         Acrisure Stadium   \n",
       "1917           271           18  04/01/2025 00:00    Raymond James Stadium   \n",
       "1918           272           18  04/01/2025 00:00           Nissan Stadium   \n",
       "\n",
       "                 Home Team            Away Team   Result  \n",
       "0      Philadelphia Eagles      Atlanta Falcons  18 - 12  \n",
       "1         Cleveland Browns  Pittsburgh Steelers  21 - 21  \n",
       "2       Indianapolis Colts   Cincinnati Bengals  23 - 34  \n",
       "3           Miami Dolphins     Tennessee Titans  27 - 20  \n",
       "4        Minnesota Vikings  San Francisco 49ers  24 - 16  \n",
       "...                    ...                  ...      ...  \n",
       "1914         New York Jets       Miami Dolphins      NaN  \n",
       "1915   Philadelphia Eagles      New York Giants      NaN  \n",
       "1916   Pittsburgh Steelers   Cincinnati Bengals      NaN  \n",
       "1917  Tampa Bay Buccaneers   New Orleans Saints      NaN  \n",
       "1918      Tennessee Titans       Houston Texans      NaN  \n",
       "\n",
       "[1919 rows x 7 columns]"
      ]
     },
     "metadata": {},
     "output_type": "display_data"
    }
   ],
   "source": [
    "# vertically integrate the dataframes\n",
    "nfl_games = pd.concat([nfl_2018, nfl_2019, nfl_2020, nfl_2021, nfl_2022, nfl_2023, nfl_2024], ignore_index=True)\n",
    "display(nfl_games)"
   ]
  },
  {
   "cell_type": "markdown",
   "id": "2ae52a73-0a76-4571-8874-0d91272470d7",
   "metadata": {},
   "source": [
    "<br>"
   ]
  },
  {
   "cell_type": "markdown",
   "id": "103f38b6-8284-4ad8-8d66-9210e26a581a",
   "metadata": {},
   "source": [
    "Cleaning data:"
   ]
  },
  {
   "cell_type": "code",
   "execution_count": 70,
   "id": "90fd8309-4a35-4797-8193-553fdf127df4",
   "metadata": {},
   "outputs": [],
   "source": [
    "# removing column not needed\n",
    "nfl_games = nfl_games.drop(columns = [\"Match Number\", \"Round Number\"])"
   ]
  },
  {
   "cell_type": "code",
   "execution_count": 78,
   "id": "40dc7c6d-a793-49d4-be3b-139091f97f1c",
   "metadata": {},
   "outputs": [],
   "source": [
    "# renames columns to snake case\n",
    "column_names = {\n",
    "    \"Date\": \"date\",\n",
    "    \"Location\": \"location\",\n",
    "    \"Home Team\": \"home_team\",\n",
    "    \"Away Team\": \"away_team\",\n",
    "    \"Result\": \"score\"\n",
    "}\n",
    "\n",
    "nfl_games = nfl_games.rename(columns = column_names)"
   ]
  },
  {
   "cell_type": "code",
   "execution_count": 80,
   "id": "b04cb298-945e-403b-968a-90ad202e2187",
   "metadata": {},
   "outputs": [
    {
     "name": "stdout",
     "output_type": "stream",
     "text": [
      "date         object\n",
      "location     object\n",
      "home_team    object\n",
      "away_team    object\n",
      "score        object\n",
      "dtype: object\n"
     ]
    }
   ],
   "source": [
    "# check column types\n",
    "print(nfl_games.dtypes)"
   ]
  },
  {
   "cell_type": "code",
   "execution_count": 82,
   "id": "c000fc75-7ce9-4268-be7d-a63e42e0199b",
   "metadata": {},
   "outputs": [],
   "source": [
    "# converting date to date type\n",
    "nfl_games[\"date\"] = pd.to_datetime(nfl_games['date'], errors='coerce', format='%d/%m/%Y  %H:%M')"
   ]
  },
  {
   "cell_type": "code",
   "execution_count": 88,
   "id": "49df9cbe-7e10-4366-a51d-b1472b504ae3",
   "metadata": {},
   "outputs": [],
   "source": [
    "# remove records with nulls\n",
    "nfl_games = nfl_games.dropna()"
   ]
  },
  {
   "cell_type": "code",
   "execution_count": 90,
   "id": "aa2d9382-3c28-481e-8cf6-e7a1491e1a65",
   "metadata": {},
   "outputs": [
    {
     "data": {
      "text/html": [
       "<div>\n",
       "<style scoped>\n",
       "    .dataframe tbody tr th:only-of-type {\n",
       "        vertical-align: middle;\n",
       "    }\n",
       "\n",
       "    .dataframe tbody tr th {\n",
       "        vertical-align: top;\n",
       "    }\n",
       "\n",
       "    .dataframe thead th {\n",
       "        text-align: right;\n",
       "    }\n",
       "</style>\n",
       "<table border=\"1\" class=\"dataframe\">\n",
       "  <thead>\n",
       "    <tr style=\"text-align: right;\">\n",
       "      <th></th>\n",
       "      <th>date</th>\n",
       "      <th>location</th>\n",
       "      <th>home_team</th>\n",
       "      <th>away_team</th>\n",
       "      <th>score</th>\n",
       "    </tr>\n",
       "  </thead>\n",
       "  <tbody>\n",
       "    <tr>\n",
       "      <th>0</th>\n",
       "      <td>2018-09-06 20:20:00</td>\n",
       "      <td>Lincoln Financial Field</td>\n",
       "      <td>Philadelphia Eagles</td>\n",
       "      <td>Atlanta Falcons</td>\n",
       "      <td>18 - 12</td>\n",
       "    </tr>\n",
       "    <tr>\n",
       "      <th>1</th>\n",
       "      <td>2018-09-09 13:00:00</td>\n",
       "      <td>FirstEnergy Stadium</td>\n",
       "      <td>Cleveland Browns</td>\n",
       "      <td>Pittsburgh Steelers</td>\n",
       "      <td>21 - 21</td>\n",
       "    </tr>\n",
       "    <tr>\n",
       "      <th>2</th>\n",
       "      <td>2018-09-09 13:00:00</td>\n",
       "      <td>Lucas Oil Stadium</td>\n",
       "      <td>Indianapolis Colts</td>\n",
       "      <td>Cincinnati Bengals</td>\n",
       "      <td>23 - 34</td>\n",
       "    </tr>\n",
       "    <tr>\n",
       "      <th>3</th>\n",
       "      <td>2018-09-09 13:00:00</td>\n",
       "      <td>Hard Rock Stadium</td>\n",
       "      <td>Miami Dolphins</td>\n",
       "      <td>Tennessee Titans</td>\n",
       "      <td>27 - 20</td>\n",
       "    </tr>\n",
       "    <tr>\n",
       "      <th>4</th>\n",
       "      <td>2018-09-09 13:00:00</td>\n",
       "      <td>U.S. Bank Stadium</td>\n",
       "      <td>Minnesota Vikings</td>\n",
       "      <td>San Francisco 49ers</td>\n",
       "      <td>24 - 16</td>\n",
       "    </tr>\n",
       "    <tr>\n",
       "      <th>...</th>\n",
       "      <td>...</td>\n",
       "      <td>...</td>\n",
       "      <td>...</td>\n",
       "      <td>...</td>\n",
       "      <td>...</td>\n",
       "    </tr>\n",
       "    <tr>\n",
       "      <th>1780</th>\n",
       "      <td>2024-11-03 21:05:00</td>\n",
       "      <td>State Farm Stadium</td>\n",
       "      <td>Arizona Cardinals</td>\n",
       "      <td>Chicago Bears</td>\n",
       "      <td>29 - 9</td>\n",
       "    </tr>\n",
       "    <tr>\n",
       "      <th>1781</th>\n",
       "      <td>2024-11-03 21:25:00</td>\n",
       "      <td>Lambeau Field</td>\n",
       "      <td>Green Bay Packers</td>\n",
       "      <td>Detroit Lions</td>\n",
       "      <td>14 - 24</td>\n",
       "    </tr>\n",
       "    <tr>\n",
       "      <th>1782</th>\n",
       "      <td>2024-11-03 21:25:00</td>\n",
       "      <td>Lumen Field</td>\n",
       "      <td>Seattle Seahawks</td>\n",
       "      <td>Los Angeles Rams</td>\n",
       "      <td>20 - 26</td>\n",
       "    </tr>\n",
       "    <tr>\n",
       "      <th>1783</th>\n",
       "      <td>2024-11-04 01:20:00</td>\n",
       "      <td>U.S. Bank Stadium</td>\n",
       "      <td>Minnesota Vikings</td>\n",
       "      <td>Indianapolis Colts</td>\n",
       "      <td>21 - 13</td>\n",
       "    </tr>\n",
       "    <tr>\n",
       "      <th>1784</th>\n",
       "      <td>2024-11-05 01:15:00</td>\n",
       "      <td>GEHA Field at Arrowhead Stadium</td>\n",
       "      <td>Kansas City Chiefs</td>\n",
       "      <td>Tampa Bay Buccaneers</td>\n",
       "      <td>30 - 24</td>\n",
       "    </tr>\n",
       "  </tbody>\n",
       "</table>\n",
       "<p>1784 rows × 5 columns</p>\n",
       "</div>"
      ],
      "text/plain": [
       "                    date                         location  \\\n",
       "0    2018-09-06 20:20:00          Lincoln Financial Field   \n",
       "1    2018-09-09 13:00:00              FirstEnergy Stadium   \n",
       "2    2018-09-09 13:00:00                Lucas Oil Stadium   \n",
       "3    2018-09-09 13:00:00                Hard Rock Stadium   \n",
       "4    2018-09-09 13:00:00                U.S. Bank Stadium   \n",
       "...                  ...                              ...   \n",
       "1780 2024-11-03 21:05:00               State Farm Stadium   \n",
       "1781 2024-11-03 21:25:00                    Lambeau Field   \n",
       "1782 2024-11-03 21:25:00                      Lumen Field   \n",
       "1783 2024-11-04 01:20:00                U.S. Bank Stadium   \n",
       "1784 2024-11-05 01:15:00  GEHA Field at Arrowhead Stadium   \n",
       "\n",
       "                home_team             away_team    score  \n",
       "0     Philadelphia Eagles       Atlanta Falcons  18 - 12  \n",
       "1        Cleveland Browns   Pittsburgh Steelers  21 - 21  \n",
       "2      Indianapolis Colts    Cincinnati Bengals  23 - 34  \n",
       "3          Miami Dolphins      Tennessee Titans  27 - 20  \n",
       "4       Minnesota Vikings   San Francisco 49ers  24 - 16  \n",
       "...                   ...                   ...      ...  \n",
       "1780    Arizona Cardinals         Chicago Bears   29 - 9  \n",
       "1781    Green Bay Packers         Detroit Lions  14 - 24  \n",
       "1782     Seattle Seahawks      Los Angeles Rams  20 - 26  \n",
       "1783    Minnesota Vikings    Indianapolis Colts  21 - 13  \n",
       "1784   Kansas City Chiefs  Tampa Bay Buccaneers  30 - 24  \n",
       "\n",
       "[1784 rows x 5 columns]"
      ]
     },
     "metadata": {},
     "output_type": "display_data"
    },
    {
     "name": "stdout",
     "output_type": "stream",
     "text": [
      "(1784, 5)\n"
     ]
    }
   ],
   "source": [
    "display(nfl_games)\n",
    "print(nfl_games.shape)"
   ]
  },
  {
   "cell_type": "markdown",
   "id": "bf19f0c0-00e8-46cd-9d0c-28f1a868baf5",
   "metadata": {},
   "source": [
    "<br>"
   ]
  },
  {
   "cell_type": "markdown",
   "id": "5a44b4e6-277d-4333-8a1b-c792e69c0a54",
   "metadata": {},
   "source": [
    "Creating new csv file from cleaned data:"
   ]
  },
  {
   "cell_type": "code",
   "execution_count": 94,
   "id": "1f0b339d-d847-438a-82e4-c9534cc76a20",
   "metadata": {},
   "outputs": [],
   "source": [
    "nfl_games.to_csv(\"../../data/clean/clean_fixture_data.csv\", encoding = \"UTF-8\", index = False)"
   ]
  }
 ],
 "metadata": {
  "kernelspec": {
   "display_name": "Python 3 (ipykernel)",
   "language": "python",
   "name": "python3"
  },
  "language_info": {
   "codemirror_mode": {
    "name": "ipython",
    "version": 3
   },
   "file_extension": ".py",
   "mimetype": "text/x-python",
   "name": "python",
   "nbconvert_exporter": "python",
   "pygments_lexer": "ipython3",
   "version": "3.12.2"
  }
 },
 "nbformat": 4,
 "nbformat_minor": 5
}
