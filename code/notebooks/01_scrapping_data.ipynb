{
 "cells": [
  {
   "cell_type": "markdown",
   "id": "3eba8797-8df0-46a7-ade3-e4a1c0d9936c",
   "metadata": {},
   "source": [
    "# NFL Betting Odds"
   ]
  },
  {
   "cell_type": "markdown",
   "id": "d98dc8ac-7423-4aff-8199-b7eba941bd02",
   "metadata": {},
   "source": [
    "**Author:** Jakob Malasig\n",
    "**Last modified:** 12-17-2024 (created: 11-17-2024)\n",
    "\n",
    "**Description:** I will be scraping data for NFL season (2018 to current) from Fixture Downloads. Will then export it as a csv file for further anaylsis."
   ]
  },
  {
   "cell_type": "markdown",
   "id": "bbd1ad77-349e-4402-8cbb-0793afca45e4",
   "metadata": {},
   "source": [
    "<br>"
   ]
  },
  {
   "cell_type": "markdown",
   "id": "930116dd-c393-4882-bfb1-c3419922a41f",
   "metadata": {},
   "source": [
    "Import libraries:"
   ]
  },
  {
   "cell_type": "code",
   "execution_count": 5,
   "id": "da5485c4-e6f4-4f19-a3af-1c8beae8c81e",
   "metadata": {},
   "outputs": [],
   "source": [
    "import pandas as pd\n",
    "from selenium import webdriver\n",
    "from selenium.webdriver.common.by import By\n",
    "from selenium.webdriver.chrome.service import Service\n",
    "from selenium.webdriver.chrome.options import Options\n",
    "from webdriver_manager.chrome import ChromeDriverManager\n",
    "import time\n",
    "import random"
   ]
  },
  {
   "cell_type": "markdown",
   "id": "231a472f-b0e0-468d-b363-be1c48b49da0",
   "metadata": {},
   "source": [
    "Function to help with web scraping:"
   ]
  },
  {
   "cell_type": "code",
   "execution_count": 7,
   "id": "6b7a854f-cbf7-4ade-a4ab-3ec621ffe304",
   "metadata": {},
   "outputs": [],
   "source": [
    "# function to scroll from the top to the bottom of the web page\n",
    "def random_scroll(browser, total_wait_time = 5):\n",
    "    # get the total height of the page\n",
    "    total_height = browser.execute_script(\"return document.body.scrollHeight\")\n",
    "    \n",
    "    # number of steps to scroll (you can adjust this number)\n",
    "    scroll_steps = random.randint(3, 10) # randomize how many scroll steps we will use\n",
    "    \n",
    "    # calculate the height to scroll on each step\n",
    "    scroll_increment = total_height // scroll_steps\n",
    "\n",
    "    # calculate the total time available for scrolling each step\n",
    "    time_per_step = total_wait_time / scroll_steps\n",
    "    \n",
    "    # random scrolling across time\n",
    "    for step in range(scroll_steps):\n",
    "        # scroll by the increment (dividing total height by number of steps)\n",
    "        browser.execute_script(f\"window.scrollBy(0, {scroll_increment});\")\n",
    "        \n",
    "        # random wait time between scrolls to simulate varying speed\n",
    "        time.sleep(random.uniform(0.5 * time_per_step, 1.5 * time_per_step))  # randomize the wait within a range\n",
    "        \n",
    "    # final scroll to make sure you are at the very bottom (in case it didn't exactly match)\n",
    "    browser.execute_script(\"window.scrollTo(0, document.body.scrollHeight);\")"
   ]
  },
  {
   "cell_type": "markdown",
   "id": "88439bdd-8f1f-48bb-a32d-70c6807bb60d",
   "metadata": {},
   "source": [
    "<br>"
   ]
  },
  {
   "cell_type": "markdown",
   "id": "34577d9d-eb55-4571-b6c7-2f095e956a5a",
   "metadata": {},
   "source": [
    "Setting up for scraping:"
   ]
  },
  {
   "cell_type": "code",
   "execution_count": 10,
   "id": "8a4a6898-9b88-4469-ae58-54f5d418500a",
   "metadata": {},
   "outputs": [],
   "source": [
    "# setup chrome\n",
    "chrome_options = Options()\n",
    "services = Service(ChromeDriverManager().install())\n",
    "\n",
    "# initialize webdriver\n",
    "browser = webdriver.Chrome(service = Service())"
   ]
  },
  {
   "cell_type": "markdown",
   "id": "fd5088ff-8e3f-4c76-9fb7-d7a6b8cd3e2b",
   "metadata": {},
   "source": [
    "<br>"
   ]
  },
  {
   "cell_type": "markdown",
   "id": "96217889-17ed-4de0-b703-248a416d2d9d",
   "metadata": {},
   "source": [
    "Scraping data:"
   ]
  },
  {
   "cell_type": "code",
   "execution_count": 13,
   "id": "92735df4-a47b-430e-af86-094731b2522d",
   "metadata": {},
   "outputs": [
    {
     "name": "stdout",
     "output_type": "stream",
     "text": [
      "https://fixturedownload.com/results/nfl-2018\n",
      "2018 season done\n",
      "https://fixturedownload.com/results/nfl-2019\n",
      "2019 season done\n",
      "https://fixturedownload.com/results/nfl-2020\n",
      "2020 season done\n",
      "https://fixturedownload.com/results/nfl-2021\n",
      "2021 season done\n",
      "https://fixturedownload.com/results/nfl-2022\n",
      "2022 season done\n",
      "https://fixturedownload.com/results/nfl-2023\n",
      "2023 season done\n",
      "https://fixturedownload.com/results/nfl-2024\n",
      "2024 season done\n"
     ]
    }
   ],
   "source": [
    "# create an empty lists to store the extracted data\n",
    "dates = []\n",
    "locations = []\n",
    "home_teams = []\n",
    "away_teams = []\n",
    "results = []\n",
    "\n",
    "# loop through years 2018-2024\n",
    "# URL pattern: https://fixturedownload.com/results/nfl-2024\n",
    "\n",
    "# loop through years 2018-2024\n",
    "for i in range(18, 25):\n",
    "    url = f\"https://fixturedownload.com/results/nfl-20{i}\"\n",
    "\n",
    "    print(url)\n",
    "\n",
    "    # navigate to the web page using the URL\n",
    "    browser.get(url)\n",
    "    browser.maximize_window()\n",
    "\n",
    "    # add a random delay before scraping\n",
    "    total_wait_time = random.uniform(2, 20)\n",
    "    random_scroll(browser, total_wait_time)\n",
    "    \n",
    "    # find the table with a specific style\n",
    "    table = browser.find_element(By.XPATH, '//table[@style=\"width:100%;\"]')\n",
    "\n",
    "    # find all rows in the table\n",
    "    rows = table.find_elements(By.TAG_NAME, \"tr\")\n",
    "\n",
    "    # loop through each row to scrape the game data\n",
    "    for row in rows:\n",
    "        # Extract the columns (cells) in the row\n",
    "        columns = row.find_elements(By.TAG_NAME, \"td\")\n",
    "        \n",
    "        if len(columns) > 0:  # Ensure the row has data\n",
    "            # Extract the date, location, teams, and result\n",
    "            date = columns[1].text  # Date is in the second column\n",
    "            location = columns[2].text  # Location is in the third column\n",
    "            home_team = columns[3].text  # Home team is in the fourth column\n",
    "            away_team = columns[4].text  # Away team is in the fifth column\n",
    "            result = columns[5].text  # Result is in the sixth column\n",
    "\n",
    "            # Append to the lists\n",
    "            dates.append(date)\n",
    "            locations.append(location)\n",
    "            home_teams.append(home_team)\n",
    "            away_teams.append(away_team)\n",
    "            results.append(result)\n",
    "        \n",
    "    # counter to know bot moves to next page\n",
    "    print(f\"20{i} season done\")\n",
    "\n",
    "# close the automated browser\n",
    "browser.close()"
   ]
  },
  {
   "cell_type": "code",
   "execution_count": 14,
   "id": "c074dd2f-e45b-4bab-8c6c-ba9e825818de",
   "metadata": {},
   "outputs": [
    {
     "name": "stdout",
     "output_type": "stream",
     "text": [
      "1919\n",
      "1919\n",
      "1919\n",
      "1919\n",
      "1919\n"
     ]
    }
   ],
   "source": [
    "print(len(dates))\n",
    "print(len(locations))\n",
    "print(len(home_teams))\n",
    "print(len(away_teams))\n",
    "print(len(results))"
   ]
  },
  {
   "cell_type": "markdown",
   "id": "03515f3d-edc9-47f6-94d0-57db0e58c75e",
   "metadata": {},
   "source": [
    "<br>"
   ]
  },
  {
   "cell_type": "markdown",
   "id": "3ed8d29a-0835-4d51-b860-b920d92b1205",
   "metadata": {},
   "source": [
    "Converting to dataframe:"
   ]
  },
  {
   "cell_type": "code",
   "execution_count": 17,
   "id": "f1262d22-27e9-445c-96a4-fa6064851dce",
   "metadata": {},
   "outputs": [
    {
     "data": {
      "text/html": [
       "<div>\n",
       "<style scoped>\n",
       "    .dataframe tbody tr th:only-of-type {\n",
       "        vertical-align: middle;\n",
       "    }\n",
       "\n",
       "    .dataframe tbody tr th {\n",
       "        vertical-align: top;\n",
       "    }\n",
       "\n",
       "    .dataframe thead th {\n",
       "        text-align: right;\n",
       "    }\n",
       "</style>\n",
       "<table border=\"1\" class=\"dataframe\">\n",
       "  <thead>\n",
       "    <tr style=\"text-align: right;\">\n",
       "      <th></th>\n",
       "      <th>date</th>\n",
       "      <th>location</th>\n",
       "      <th>home_team</th>\n",
       "      <th>away_team</th>\n",
       "      <th>result</th>\n",
       "    </tr>\n",
       "  </thead>\n",
       "  <tbody>\n",
       "    <tr>\n",
       "      <th>0</th>\n",
       "      <td>06/09/2018 20:20</td>\n",
       "      <td>Lincoln Financial Field</td>\n",
       "      <td>Philadelphia Eagles</td>\n",
       "      <td>Atlanta Falcons</td>\n",
       "      <td>18 - 12</td>\n",
       "    </tr>\n",
       "    <tr>\n",
       "      <th>1</th>\n",
       "      <td>09/09/2018 13:00</td>\n",
       "      <td>FirstEnergy Stadium</td>\n",
       "      <td>Cleveland Browns</td>\n",
       "      <td>Pittsburgh Steelers</td>\n",
       "      <td>21 - 21</td>\n",
       "    </tr>\n",
       "    <tr>\n",
       "      <th>2</th>\n",
       "      <td>09/09/2018 13:00</td>\n",
       "      <td>Lucas Oil Stadium</td>\n",
       "      <td>Indianapolis Colts</td>\n",
       "      <td>Cincinnati Bengals</td>\n",
       "      <td>23 - 34</td>\n",
       "    </tr>\n",
       "    <tr>\n",
       "      <th>3</th>\n",
       "      <td>09/09/2018 13:00</td>\n",
       "      <td>Hard Rock Stadium</td>\n",
       "      <td>Miami Dolphins</td>\n",
       "      <td>Tennessee Titans</td>\n",
       "      <td>27 - 20</td>\n",
       "    </tr>\n",
       "    <tr>\n",
       "      <th>4</th>\n",
       "      <td>09/09/2018 13:00</td>\n",
       "      <td>U.S. Bank Stadium</td>\n",
       "      <td>Minnesota Vikings</td>\n",
       "      <td>San Francisco 49ers</td>\n",
       "      <td>24 - 16</td>\n",
       "    </tr>\n",
       "    <tr>\n",
       "      <th>...</th>\n",
       "      <td>...</td>\n",
       "      <td>...</td>\n",
       "      <td>...</td>\n",
       "      <td>...</td>\n",
       "      <td>...</td>\n",
       "    </tr>\n",
       "    <tr>\n",
       "      <th>1914</th>\n",
       "      <td>04/01/2025 00:00</td>\n",
       "      <td>MetLife Stadium</td>\n",
       "      <td>New York Jets</td>\n",
       "      <td>Miami Dolphins</td>\n",
       "      <td>-</td>\n",
       "    </tr>\n",
       "    <tr>\n",
       "      <th>1915</th>\n",
       "      <td>04/01/2025 00:00</td>\n",
       "      <td>Lincoln Financial Field</td>\n",
       "      <td>Philadelphia Eagles</td>\n",
       "      <td>New York Giants</td>\n",
       "      <td>-</td>\n",
       "    </tr>\n",
       "    <tr>\n",
       "      <th>1916</th>\n",
       "      <td>04/01/2025 00:00</td>\n",
       "      <td>Acrisure Stadium</td>\n",
       "      <td>Pittsburgh Steelers</td>\n",
       "      <td>Cincinnati Bengals</td>\n",
       "      <td>-</td>\n",
       "    </tr>\n",
       "    <tr>\n",
       "      <th>1917</th>\n",
       "      <td>04/01/2025 00:00</td>\n",
       "      <td>Raymond James Stadium</td>\n",
       "      <td>Tampa Bay Buccaneers</td>\n",
       "      <td>New Orleans Saints</td>\n",
       "      <td>-</td>\n",
       "    </tr>\n",
       "    <tr>\n",
       "      <th>1918</th>\n",
       "      <td>04/01/2025 00:00</td>\n",
       "      <td>Nissan Stadium</td>\n",
       "      <td>Tennessee Titans</td>\n",
       "      <td>Houston Texans</td>\n",
       "      <td>-</td>\n",
       "    </tr>\n",
       "  </tbody>\n",
       "</table>\n",
       "<p>1919 rows × 5 columns</p>\n",
       "</div>"
      ],
      "text/plain": [
       "                  date                 location             home_team  \\\n",
       "0     06/09/2018 20:20  Lincoln Financial Field   Philadelphia Eagles   \n",
       "1     09/09/2018 13:00      FirstEnergy Stadium      Cleveland Browns   \n",
       "2     09/09/2018 13:00        Lucas Oil Stadium    Indianapolis Colts   \n",
       "3     09/09/2018 13:00        Hard Rock Stadium        Miami Dolphins   \n",
       "4     09/09/2018 13:00        U.S. Bank Stadium     Minnesota Vikings   \n",
       "...                ...                      ...                   ...   \n",
       "1914  04/01/2025 00:00          MetLife Stadium         New York Jets   \n",
       "1915  04/01/2025 00:00  Lincoln Financial Field   Philadelphia Eagles   \n",
       "1916  04/01/2025 00:00         Acrisure Stadium   Pittsburgh Steelers   \n",
       "1917  04/01/2025 00:00    Raymond James Stadium  Tampa Bay Buccaneers   \n",
       "1918  04/01/2025 00:00           Nissan Stadium      Tennessee Titans   \n",
       "\n",
       "                away_team   result  \n",
       "0         Atlanta Falcons  18 - 12  \n",
       "1     Pittsburgh Steelers  21 - 21  \n",
       "2      Cincinnati Bengals  23 - 34  \n",
       "3        Tennessee Titans  27 - 20  \n",
       "4     San Francisco 49ers  24 - 16  \n",
       "...                   ...      ...  \n",
       "1914       Miami Dolphins        -  \n",
       "1915      New York Giants        -  \n",
       "1916   Cincinnati Bengals        -  \n",
       "1917   New Orleans Saints        -  \n",
       "1918       Houston Texans        -  \n",
       "\n",
       "[1919 rows x 5 columns]"
      ]
     },
     "metadata": {},
     "output_type": "display_data"
    }
   ],
   "source": [
    "# create a dataframe from data\n",
    "nfl_data = pd.DataFrame({\n",
    "    \"date\": dates,\n",
    "    \"location\": locations,\n",
    "    \"home_team\": home_teams,\n",
    "    \"away_team\": away_teams,\n",
    "    \"result\": results,\n",
    "})\n",
    "\n",
    "# display the data\n",
    "display(nfl_data)"
   ]
  },
  {
   "cell_type": "markdown",
   "id": "1047d81a-f112-403d-adcd-e60499b8b117",
   "metadata": {},
   "source": [
    "<br>"
   ]
  },
  {
   "cell_type": "markdown",
   "id": "2db3c6eb-4ffd-4c86-afe4-6440e3f44e78",
   "metadata": {},
   "source": [
    "Cleaning data:"
   ]
  },
  {
   "cell_type": "code",
   "execution_count": 20,
   "id": "991a207a-7129-47b0-bab5-677ce49cd9da",
   "metadata": {},
   "outputs": [],
   "source": [
    "# remove records that have no results yet (game not played yet)\n",
    "nfl_data = nfl_data[nfl_data[\"result\"] != \"-\"]"
   ]
  },
  {
   "cell_type": "code",
   "execution_count": 21,
   "id": "edffcf89-53df-4d36-8de9-f750db8dd2bc",
   "metadata": {},
   "outputs": [],
   "source": [
    "# remove the time from the data column\n",
    "nfl_data[\"date\"] = pd.to_datetime(nfl_data[\"date\"], format = \"%d/%m/%Y %H:%M\")\n",
    "nfl_data[\"date\"] = nfl_data[\"date\"].dt.strftime(\"%m/%d/%Y\")"
   ]
  },
  {
   "cell_type": "code",
   "execution_count": 22,
   "id": "8dcab8b0-5d90-4d7b-a80e-abda02e32862",
   "metadata": {},
   "outputs": [
    {
     "data": {
      "text/html": [
       "<div>\n",
       "<style scoped>\n",
       "    .dataframe tbody tr th:only-of-type {\n",
       "        vertical-align: middle;\n",
       "    }\n",
       "\n",
       "    .dataframe tbody tr th {\n",
       "        vertical-align: top;\n",
       "    }\n",
       "\n",
       "    .dataframe thead th {\n",
       "        text-align: right;\n",
       "    }\n",
       "</style>\n",
       "<table border=\"1\" class=\"dataframe\">\n",
       "  <thead>\n",
       "    <tr style=\"text-align: right;\">\n",
       "      <th></th>\n",
       "      <th>date</th>\n",
       "      <th>location</th>\n",
       "      <th>home_team</th>\n",
       "      <th>away_team</th>\n",
       "      <th>result</th>\n",
       "    </tr>\n",
       "  </thead>\n",
       "  <tbody>\n",
       "    <tr>\n",
       "      <th>0</th>\n",
       "      <td>09/06/2018</td>\n",
       "      <td>Lincoln Financial Field</td>\n",
       "      <td>Philadelphia Eagles</td>\n",
       "      <td>Atlanta Falcons</td>\n",
       "      <td>18 - 12</td>\n",
       "    </tr>\n",
       "    <tr>\n",
       "      <th>1</th>\n",
       "      <td>09/09/2018</td>\n",
       "      <td>FirstEnergy Stadium</td>\n",
       "      <td>Cleveland Browns</td>\n",
       "      <td>Pittsburgh Steelers</td>\n",
       "      <td>21 - 21</td>\n",
       "    </tr>\n",
       "    <tr>\n",
       "      <th>2</th>\n",
       "      <td>09/09/2018</td>\n",
       "      <td>Lucas Oil Stadium</td>\n",
       "      <td>Indianapolis Colts</td>\n",
       "      <td>Cincinnati Bengals</td>\n",
       "      <td>23 - 34</td>\n",
       "    </tr>\n",
       "    <tr>\n",
       "      <th>3</th>\n",
       "      <td>09/09/2018</td>\n",
       "      <td>Hard Rock Stadium</td>\n",
       "      <td>Miami Dolphins</td>\n",
       "      <td>Tennessee Titans</td>\n",
       "      <td>27 - 20</td>\n",
       "    </tr>\n",
       "    <tr>\n",
       "      <th>4</th>\n",
       "      <td>09/09/2018</td>\n",
       "      <td>U.S. Bank Stadium</td>\n",
       "      <td>Minnesota Vikings</td>\n",
       "      <td>San Francisco 49ers</td>\n",
       "      <td>24 - 16</td>\n",
       "    </tr>\n",
       "    <tr>\n",
       "      <th>...</th>\n",
       "      <td>...</td>\n",
       "      <td>...</td>\n",
       "      <td>...</td>\n",
       "      <td>...</td>\n",
       "      <td>...</td>\n",
       "    </tr>\n",
       "    <tr>\n",
       "      <th>1866</th>\n",
       "      <td>12/15/2024</td>\n",
       "      <td>SoFi Stadium</td>\n",
       "      <td>Los Angeles Chargers</td>\n",
       "      <td>Tampa Bay Buccaneers</td>\n",
       "      <td>17 - 40</td>\n",
       "    </tr>\n",
       "    <tr>\n",
       "      <th>1867</th>\n",
       "      <td>12/15/2024</td>\n",
       "      <td>Lincoln Financial Field</td>\n",
       "      <td>Philadelphia Eagles</td>\n",
       "      <td>Pittsburgh Steelers</td>\n",
       "      <td>27 - 13</td>\n",
       "    </tr>\n",
       "    <tr>\n",
       "      <th>1868</th>\n",
       "      <td>12/16/2024</td>\n",
       "      <td>Lumen Field</td>\n",
       "      <td>Seattle Seahawks</td>\n",
       "      <td>Green Bay Packers</td>\n",
       "      <td>13 - 30</td>\n",
       "    </tr>\n",
       "    <tr>\n",
       "      <th>1869</th>\n",
       "      <td>12/17/2024</td>\n",
       "      <td>U.S. Bank Stadium</td>\n",
       "      <td>Minnesota Vikings</td>\n",
       "      <td>Chicago Bears</td>\n",
       "      <td>30 - 12</td>\n",
       "    </tr>\n",
       "    <tr>\n",
       "      <th>1870</th>\n",
       "      <td>12/17/2024</td>\n",
       "      <td>Allegiant Stadium</td>\n",
       "      <td>Las Vegas Raiders</td>\n",
       "      <td>Atlanta Falcons</td>\n",
       "      <td>9 - 15</td>\n",
       "    </tr>\n",
       "  </tbody>\n",
       "</table>\n",
       "<p>1870 rows × 5 columns</p>\n",
       "</div>"
      ],
      "text/plain": [
       "            date                 location             home_team  \\\n",
       "0     09/06/2018  Lincoln Financial Field   Philadelphia Eagles   \n",
       "1     09/09/2018      FirstEnergy Stadium      Cleveland Browns   \n",
       "2     09/09/2018        Lucas Oil Stadium    Indianapolis Colts   \n",
       "3     09/09/2018        Hard Rock Stadium        Miami Dolphins   \n",
       "4     09/09/2018        U.S. Bank Stadium     Minnesota Vikings   \n",
       "...          ...                      ...                   ...   \n",
       "1866  12/15/2024             SoFi Stadium  Los Angeles Chargers   \n",
       "1867  12/15/2024  Lincoln Financial Field   Philadelphia Eagles   \n",
       "1868  12/16/2024              Lumen Field      Seattle Seahawks   \n",
       "1869  12/17/2024        U.S. Bank Stadium     Minnesota Vikings   \n",
       "1870  12/17/2024        Allegiant Stadium     Las Vegas Raiders   \n",
       "\n",
       "                 away_team   result  \n",
       "0          Atlanta Falcons  18 - 12  \n",
       "1      Pittsburgh Steelers  21 - 21  \n",
       "2       Cincinnati Bengals  23 - 34  \n",
       "3         Tennessee Titans  27 - 20  \n",
       "4      San Francisco 49ers  24 - 16  \n",
       "...                    ...      ...  \n",
       "1866  Tampa Bay Buccaneers  17 - 40  \n",
       "1867   Pittsburgh Steelers  27 - 13  \n",
       "1868     Green Bay Packers  13 - 30  \n",
       "1869         Chicago Bears  30 - 12  \n",
       "1870       Atlanta Falcons   9 - 15  \n",
       "\n",
       "[1870 rows x 5 columns]"
      ]
     },
     "metadata": {},
     "output_type": "display_data"
    }
   ],
   "source": [
    "display(nfl_data)"
   ]
  },
  {
   "cell_type": "markdown",
   "id": "45604fa8-d4e6-4def-ba62-a8aa67ae5706",
   "metadata": {},
   "source": [
    "<br>"
   ]
  },
  {
   "cell_type": "markdown",
   "id": "b0983a62-c96c-46b0-bc08-792c4fa0fadc",
   "metadata": {},
   "source": [
    "Creating new csv file from cleaned data:"
   ]
  },
  {
   "cell_type": "code",
   "execution_count": 25,
   "id": "9ff64733-d276-48c9-a66e-c9ea4f67a4a0",
   "metadata": {},
   "outputs": [],
   "source": [
    "nfl_data.to_csv(\"../../data/clean/clean_fixture_download.csv\", encoding = \"UTF-8\", index = False)"
   ]
  }
 ],
 "metadata": {
  "kernelspec": {
   "display_name": "Python 3 (ipykernel)",
   "language": "python",
   "name": "python3"
  },
  "language_info": {
   "codemirror_mode": {
    "name": "ipython",
    "version": 3
   },
   "file_extension": ".py",
   "mimetype": "text/x-python",
   "name": "python",
   "nbconvert_exporter": "python",
   "pygments_lexer": "ipython3",
   "version": "3.12.2"
  }
 },
 "nbformat": 4,
 "nbformat_minor": 5
}
