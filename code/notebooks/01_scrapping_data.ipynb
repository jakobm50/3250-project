{
 "cells": [
  {
   "cell_type": "markdown",
   "id": "3eba8797-8df0-46a7-ade3-e4a1c0d9936c",
   "metadata": {},
   "source": [
    "# NFL Betting Odds"
   ]
  },
  {
   "cell_type": "markdown",
   "id": "d98dc8ac-7423-4aff-8199-b7eba941bd02",
   "metadata": {},
   "source": [
    "**Author:** Jakob Malasig\n",
    "**Last modified:** 11-17-2024 (created: 11-17-2024)\n",
    "\n",
    "**Description:** I will be downloading data for NFL season (2018 to current) from Fixture Downloads and integrating into one. Will then export it as a csv file for further anaylsis."
   ]
  },
  {
   "cell_type": "markdown",
   "id": "bbd1ad77-349e-4402-8cbb-0793afca45e4",
   "metadata": {},
   "source": [
    "<br>"
   ]
  },
  {
   "cell_type": "markdown",
   "id": "930116dd-c393-4882-bfb1-c3419922a41f",
   "metadata": {},
   "source": [
    "Import libraries:"
   ]
  },
  {
   "cell_type": "code",
   "execution_count": 1,
   "id": "da5485c4-e6f4-4f19-a3af-1c8beae8c81e",
   "metadata": {},
   "outputs": [],
   "source": [
    "import pandas as pd\n",
    "from selenium import webdriver\n",
    "from selenium.webdriver.common.by import By\n",
    "from selenium.webdriver.chrome.service import Service\n",
    "from selenium.webdriver.chrome.options import Options\n",
    "from webdriver_manager.chrome import ChromeDriverManager\n",
    "import time\n",
    "import random"
   ]
  },
  {
   "cell_type": "markdown",
   "id": "85b93430-e208-4801-ad47-a58e79905382",
   "metadata": {},
   "source": [
    "<br>"
   ]
  },
  {
   "cell_type": "markdown",
   "id": "231a472f-b0e0-468d-b363-be1c48b49da0",
   "metadata": {},
   "source": [
    "Function to help with web scraping:"
   ]
  },
  {
   "cell_type": "code",
   "execution_count": 3,
   "id": "d7140290-ad4e-44f8-89fd-14ca77f82f90",
   "metadata": {},
   "outputs": [],
   "source": [
    "# function to scroll from the top to the bottom of the web page\n",
    "def random_scroll(browser, total_wait_time = 5):\n",
    "    # get the total height of the page\n",
    "    total_height = browser.execute_script(\"return document.body.scrollHeight\")\n",
    "    \n",
    "    # number of steps to scroll (you can adjust this number)\n",
    "    scroll_steps = random.randint(3, 10) # randomize how many scroll steps we will use\n",
    "    \n",
    "    # calculate the height to scroll on each step\n",
    "    scroll_increment = total_height // scroll_steps\n",
    "\n",
    "    # calculate the total time available for scrolling each step\n",
    "    time_per_step = total_wait_time / scroll_steps\n",
    "    \n",
    "    # random scrolling across time\n",
    "    for step in range(scroll_steps):\n",
    "        # scroll by the increment (dividing total height by number of steps)\n",
    "        browser.execute_script(f\"window.scrollBy(0, {scroll_increment});\")\n",
    "        \n",
    "        # random wait time between scrolls to simulate varying speed\n",
    "        time.sleep(random.uniform(0.5 * time_per_step, 1.5 * time_per_step))  # randomize the wait within a range\n",
    "        \n",
    "    # final scroll to make sure you are at the very bottom (in case it didn't exactly match)\n",
    "    browser.execute_script(\"window.scrollTo(0, document.body.scrollHeight);\")"
   ]
  },
  {
   "cell_type": "markdown",
   "id": "aa54bc2a-e1d5-4be3-bddf-3326c50a0343",
   "metadata": {},
   "source": [
    "<br>"
   ]
  },
  {
   "cell_type": "markdown",
   "id": "34577d9d-eb55-4571-b6c7-2f095e956a5a",
   "metadata": {},
   "source": [
    "Setting up for scraping:"
   ]
  },
  {
   "cell_type": "code",
   "execution_count": 5,
   "id": "8a4a6898-9b88-4469-ae58-54f5d418500a",
   "metadata": {},
   "outputs": [],
   "source": [
    "# setup chrome\n",
    "chrome_options = Options()\n",
    "services = Service(ChromeDriverManager().install())\n",
    "\n",
    "# initialize webdriver\n",
    "browser = webdriver.Chrome(service = Service())"
   ]
  },
  {
   "cell_type": "markdown",
   "id": "fd5088ff-8e3f-4c76-9fb7-d7a6b8cd3e2b",
   "metadata": {},
   "source": [
    "<br>"
   ]
  },
  {
   "cell_type": "markdown",
   "id": "96217889-17ed-4de0-b703-248a416d2d9d",
   "metadata": {},
   "source": [
    "Scraping data:"
   ]
  },
  {
   "cell_type": "code",
   "execution_count": 7,
   "id": "92735df4-a47b-430e-af86-094731b2522d",
   "metadata": {},
   "outputs": [
    {
     "name": "stdout",
     "output_type": "stream",
     "text": [
      "https://www.sportsoddshistory.com/nfl-game-season/?y=2018\n",
      "2018 season done\n"
     ]
    }
   ],
   "source": [
    "# create an empty lists to store the extracted data\n",
    "dates = []\n",
    "times = []\n",
    "favorites = []\n",
    "underdogs = []\n",
    "scores = []\n",
    "spreads = []\n",
    "over_unders = []\n",
    "\n",
    "# loop through years 2018-2024 (current)\n",
    "# URL pattern: https://www.sportsoddshistory.com/nfl-game-season/?y=2018\n",
    "\n",
    "# loop through 2019-2024 after testing\n",
    "# loop through years 2018-2024 (current)\n",
    "for i in range(18, 19):  # Make sure this range matches your desired years\n",
    "    url = f\"https://www.sportsoddshistory.com/nfl-game-season/?y=20{i}\"\n",
    "    print(url)\n",
    "    \n",
    "    # navigate to the web page using the URL\n",
    "    browser.get(url)\n",
    "    browser.maximize_window()\n",
    "\n",
    "    # add a random delay before scraping\n",
    "    total_wait_time = random.uniform(2, 20)\n",
    "    random_scroll(browser, total_wait_time)\n",
    "\n",
    "    # Find all the game rows\n",
    "    games = browser.find_elements(By.XPATH, '//table[@class=\"soh1\"]/tbody/tr')\n",
    "\n",
    "    # loop through the games and scrape data\n",
    "    for game in games[2:]:  # Skip the first two rows (header rows)\n",
    "        try:\n",
    "            # date\n",
    "            date_element = game.find_element(By.XPATH, '//table[@class=\"soh1\"]/tbody/tr//td[2]')\n",
    "            date = date_element.text.strip()\n",
    "            dates.append(date)\n",
    "\n",
    "            # time\n",
    "            time_element = game.find_element(By.XPATH, '//table[@class=\"soh1\"]/tbody/tr//td[3]')\n",
    "            time = time_element.text.strip()\n",
    "            times.append(time)\n",
    "\n",
    "            # favorite\n",
    "            favorite_element = game.find_element(By.XPATH, '//table[@class=\"soh1\"]/tbody/tr//td[5]//a')\n",
    "            favorite = favorite_element.text.strip()\n",
    "            favorites.append(favorite)\n",
    "\n",
    "            # underdog\n",
    "            underdog_element = game.find_element(By.XPATH, '//table[@class=\"soh1\"]/tbody/tr//td[9]//a')\n",
    "            underdog = underdog_element.text.strip()\n",
    "            underdogs.append(underdog)\n",
    "\n",
    "            # score\n",
    "            score_element = game.find_element(By.XPATH, '//table[@class=\"soh1\"]/tbody/tr//td[6]')\n",
    "            score = score_element.text.strip()\n",
    "            scores.append(score)\n",
    "        \n",
    "            # spread\n",
    "            spread_element = game.find_element(By.XPATH, '//table[@class=\"soh1\"]/tbody/tr//td[7]')\n",
    "            spread = spread_element.text.strip()\n",
    "            spreads.append(spread)\n",
    "\n",
    "            # over/under\n",
    "            over_under_element = game.find_element(By.XPATH, '//table[@class=\"soh1\"]/tbody/tr//td[10]')\n",
    "            over_under = over_under_element.text.strip()\n",
    "            over_unders.append(over_under)\n",
    "            \n",
    "        except Exception as e:\n",
    "            print(f\"Error scraping game data: {e}\")\n",
    "\n",
    "    # counter to know bot moves to next page\n",
    "    print(f\"20{i} season done\")\n",
    "\n",
    "# close the automated browser\n",
    "browser.close()"
   ]
  },
  {
   "cell_type": "code",
   "execution_count": 9,
   "id": "c074dd2f-e45b-4bab-8c6c-ba9e825818de",
   "metadata": {},
   "outputs": [
    {
     "name": "stdout",
     "output_type": "stream",
     "text": [
      "337\n",
      "337\n",
      "337\n",
      "337\n",
      "337\n",
      "337\n",
      "337\n"
     ]
    }
   ],
   "source": [
    "print(len(dates))\n",
    "print(len(times))\n",
    "print(len(favorites))\n",
    "print(len(underdogs))\n",
    "print(len(scores))\n",
    "print(len(spreads))\n",
    "print(len(over_unders))"
   ]
  },
  {
   "cell_type": "code",
   "execution_count": 11,
   "id": "f1262d22-27e9-445c-96a4-fa6064851dce",
   "metadata": {},
   "outputs": [
    {
     "data": {
      "text/html": [
       "<div>\n",
       "<style scoped>\n",
       "    .dataframe tbody tr th:only-of-type {\n",
       "        vertical-align: middle;\n",
       "    }\n",
       "\n",
       "    .dataframe tbody tr th {\n",
       "        vertical-align: top;\n",
       "    }\n",
       "\n",
       "    .dataframe thead th {\n",
       "        text-align: right;\n",
       "    }\n",
       "</style>\n",
       "<table border=\"1\" class=\"dataframe\">\n",
       "  <thead>\n",
       "    <tr style=\"text-align: right;\">\n",
       "      <th></th>\n",
       "      <th>date</th>\n",
       "      <th>time</th>\n",
       "      <th>favorite</th>\n",
       "      <th>underdog</th>\n",
       "      <th>score</th>\n",
       "      <th>spread</th>\n",
       "      <th>over_under</th>\n",
       "    </tr>\n",
       "  </thead>\n",
       "  <tbody>\n",
       "    <tr>\n",
       "      <th>0</th>\n",
       "      <td>10-5 (66.7%)</td>\n",
       "      <td>8-7-1 (53.3%)</td>\n",
       "      <td>Philadelphia Eagles</td>\n",
       "      <td>Atlanta Falcons</td>\n",
       "      <td>7-4 (63.6%)</td>\n",
       "      <td>5-5-1 (50.0%)</td>\n",
       "      <td>9-7-0 (56.3%)</td>\n",
       "    </tr>\n",
       "    <tr>\n",
       "      <th>1</th>\n",
       "      <td>10-5 (66.7%)</td>\n",
       "      <td>8-7-1 (53.3%)</td>\n",
       "      <td>Philadelphia Eagles</td>\n",
       "      <td>Atlanta Falcons</td>\n",
       "      <td>7-4 (63.6%)</td>\n",
       "      <td>5-5-1 (50.0%)</td>\n",
       "      <td>9-7-0 (56.3%)</td>\n",
       "    </tr>\n",
       "    <tr>\n",
       "      <th>2</th>\n",
       "      <td>10-5 (66.7%)</td>\n",
       "      <td>8-7-1 (53.3%)</td>\n",
       "      <td>Philadelphia Eagles</td>\n",
       "      <td>Atlanta Falcons</td>\n",
       "      <td>7-4 (63.6%)</td>\n",
       "      <td>5-5-1 (50.0%)</td>\n",
       "      <td>9-7-0 (56.3%)</td>\n",
       "    </tr>\n",
       "    <tr>\n",
       "      <th>3</th>\n",
       "      <td>10-5 (66.7%)</td>\n",
       "      <td>8-7-1 (53.3%)</td>\n",
       "      <td>Philadelphia Eagles</td>\n",
       "      <td>Atlanta Falcons</td>\n",
       "      <td>7-4 (63.6%)</td>\n",
       "      <td>5-5-1 (50.0%)</td>\n",
       "      <td>9-7-0 (56.3%)</td>\n",
       "    </tr>\n",
       "    <tr>\n",
       "      <th>4</th>\n",
       "      <td>10-5 (66.7%)</td>\n",
       "      <td>8-7-1 (53.3%)</td>\n",
       "      <td>Philadelphia Eagles</td>\n",
       "      <td>Atlanta Falcons</td>\n",
       "      <td>7-4 (63.6%)</td>\n",
       "      <td>5-5-1 (50.0%)</td>\n",
       "      <td>9-7-0 (56.3%)</td>\n",
       "    </tr>\n",
       "    <tr>\n",
       "      <th>...</th>\n",
       "      <td>...</td>\n",
       "      <td>...</td>\n",
       "      <td>...</td>\n",
       "      <td>...</td>\n",
       "      <td>...</td>\n",
       "      <td>...</td>\n",
       "      <td>...</td>\n",
       "    </tr>\n",
       "    <tr>\n",
       "      <th>332</th>\n",
       "      <td>10-5 (66.7%)</td>\n",
       "      <td>8-7-1 (53.3%)</td>\n",
       "      <td>Philadelphia Eagles</td>\n",
       "      <td>Atlanta Falcons</td>\n",
       "      <td>7-4 (63.6%)</td>\n",
       "      <td>5-5-1 (50.0%)</td>\n",
       "      <td>9-7-0 (56.3%)</td>\n",
       "    </tr>\n",
       "    <tr>\n",
       "      <th>333</th>\n",
       "      <td>10-5 (66.7%)</td>\n",
       "      <td>8-7-1 (53.3%)</td>\n",
       "      <td>Philadelphia Eagles</td>\n",
       "      <td>Atlanta Falcons</td>\n",
       "      <td>7-4 (63.6%)</td>\n",
       "      <td>5-5-1 (50.0%)</td>\n",
       "      <td>9-7-0 (56.3%)</td>\n",
       "    </tr>\n",
       "    <tr>\n",
       "      <th>334</th>\n",
       "      <td>10-5 (66.7%)</td>\n",
       "      <td>8-7-1 (53.3%)</td>\n",
       "      <td>Philadelphia Eagles</td>\n",
       "      <td>Atlanta Falcons</td>\n",
       "      <td>7-4 (63.6%)</td>\n",
       "      <td>5-5-1 (50.0%)</td>\n",
       "      <td>9-7-0 (56.3%)</td>\n",
       "    </tr>\n",
       "    <tr>\n",
       "      <th>335</th>\n",
       "      <td>10-5 (66.7%)</td>\n",
       "      <td>8-7-1 (53.3%)</td>\n",
       "      <td>Philadelphia Eagles</td>\n",
       "      <td>Atlanta Falcons</td>\n",
       "      <td>7-4 (63.6%)</td>\n",
       "      <td>5-5-1 (50.0%)</td>\n",
       "      <td>9-7-0 (56.3%)</td>\n",
       "    </tr>\n",
       "    <tr>\n",
       "      <th>336</th>\n",
       "      <td>10-5 (66.7%)</td>\n",
       "      <td>8-7-1 (53.3%)</td>\n",
       "      <td>Philadelphia Eagles</td>\n",
       "      <td>Atlanta Falcons</td>\n",
       "      <td>7-4 (63.6%)</td>\n",
       "      <td>5-5-1 (50.0%)</td>\n",
       "      <td>9-7-0 (56.3%)</td>\n",
       "    </tr>\n",
       "  </tbody>\n",
       "</table>\n",
       "<p>337 rows × 7 columns</p>\n",
       "</div>"
      ],
      "text/plain": [
       "             date           time             favorite         underdog  \\\n",
       "0    10-5 (66.7%)  8-7-1 (53.3%)  Philadelphia Eagles  Atlanta Falcons   \n",
       "1    10-5 (66.7%)  8-7-1 (53.3%)  Philadelphia Eagles  Atlanta Falcons   \n",
       "2    10-5 (66.7%)  8-7-1 (53.3%)  Philadelphia Eagles  Atlanta Falcons   \n",
       "3    10-5 (66.7%)  8-7-1 (53.3%)  Philadelphia Eagles  Atlanta Falcons   \n",
       "4    10-5 (66.7%)  8-7-1 (53.3%)  Philadelphia Eagles  Atlanta Falcons   \n",
       "..            ...            ...                  ...              ...   \n",
       "332  10-5 (66.7%)  8-7-1 (53.3%)  Philadelphia Eagles  Atlanta Falcons   \n",
       "333  10-5 (66.7%)  8-7-1 (53.3%)  Philadelphia Eagles  Atlanta Falcons   \n",
       "334  10-5 (66.7%)  8-7-1 (53.3%)  Philadelphia Eagles  Atlanta Falcons   \n",
       "335  10-5 (66.7%)  8-7-1 (53.3%)  Philadelphia Eagles  Atlanta Falcons   \n",
       "336  10-5 (66.7%)  8-7-1 (53.3%)  Philadelphia Eagles  Atlanta Falcons   \n",
       "\n",
       "           score         spread     over_under  \n",
       "0    7-4 (63.6%)  5-5-1 (50.0%)  9-7-0 (56.3%)  \n",
       "1    7-4 (63.6%)  5-5-1 (50.0%)  9-7-0 (56.3%)  \n",
       "2    7-4 (63.6%)  5-5-1 (50.0%)  9-7-0 (56.3%)  \n",
       "3    7-4 (63.6%)  5-5-1 (50.0%)  9-7-0 (56.3%)  \n",
       "4    7-4 (63.6%)  5-5-1 (50.0%)  9-7-0 (56.3%)  \n",
       "..           ...            ...            ...  \n",
       "332  7-4 (63.6%)  5-5-1 (50.0%)  9-7-0 (56.3%)  \n",
       "333  7-4 (63.6%)  5-5-1 (50.0%)  9-7-0 (56.3%)  \n",
       "334  7-4 (63.6%)  5-5-1 (50.0%)  9-7-0 (56.3%)  \n",
       "335  7-4 (63.6%)  5-5-1 (50.0%)  9-7-0 (56.3%)  \n",
       "336  7-4 (63.6%)  5-5-1 (50.0%)  9-7-0 (56.3%)  \n",
       "\n",
       "[337 rows x 7 columns]"
      ]
     },
     "metadata": {},
     "output_type": "display_data"
    }
   ],
   "source": [
    "# create a dataframe from data\n",
    "nfl_odds = pd.DataFrame({\n",
    "    \"date\": dates,\n",
    "    \"time\": times,\n",
    "    \"favorite\": favorites,\n",
    "    \"underdog\": underdogs,\n",
    "    \"score\": scores,\n",
    "    \"spread\": spreads,\n",
    "    \"over_under\": over_unders \n",
    "})\n",
    "\n",
    "# display the data\n",
    "display(nfl_odds)"
   ]
  },
  {
   "cell_type": "code",
   "execution_count": 17,
   "id": "5e019a1e-4ae8-4064-b4fb-85bb7ada734c",
   "metadata": {},
   "outputs": [
    {
     "data": {
      "text/plain": [
       "array(['10-5 (66.7%)'], dtype=object)"
      ]
     },
     "execution_count": 17,
     "metadata": {},
     "output_type": "execute_result"
    }
   ],
   "source": [
    "nfl_odds[\"date\"].unique()"
   ]
  },
  {
   "cell_type": "code",
   "execution_count": null,
   "id": "31e5b3b9-8318-4757-a427-ac470737c75d",
   "metadata": {},
   "outputs": [],
   "source": []
  }
 ],
 "metadata": {
  "kernelspec": {
   "display_name": "Python 3 (ipykernel)",
   "language": "python",
   "name": "python3"
  },
  "language_info": {
   "codemirror_mode": {
    "name": "ipython",
    "version": 3
   },
   "file_extension": ".py",
   "mimetype": "text/x-python",
   "name": "python",
   "nbconvert_exporter": "python",
   "pygments_lexer": "ipython3",
   "version": "3.12.2"
  }
 },
 "nbformat": 4,
 "nbformat_minor": 5
}
